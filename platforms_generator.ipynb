{
 "cells": [
  {
   "cell_type": "code",
   "execution_count": 25,
   "id": "216eeabe",
   "metadata": {},
   "outputs": [],
   "source": [
    "import json"
   ]
  },
  {
   "cell_type": "code",
   "execution_count": 26,
   "id": "7171521a",
   "metadata": {},
   "outputs": [],
   "source": [
    "def generate_machine(machine_id, base_power, switching_off_power, switching_on_power, sleeping_power, switching_on_time, switching_off_time):\n",
    "    \"\"\"Generate one machine entry with DVFS profiles and states.\"\"\"\n",
    "\n",
    "    base_speed = 1.0\n",
    "    underclock_power = base_power * 0.7\n",
    "    underclock_speed = base_speed * 0.7\n",
    "    overclock_power = base_power * 1.3\n",
    "    overclock_speed = base_speed * 1.3\n",
    "    \n",
    "    machine = {\n",
    "        \"id\": machine_id,\n",
    "        \"dvfs_profiles\": {\n",
    "            \"underclock_1\": {\"power\": underclock_power, \"compute_speed\": underclock_speed},\n",
    "            \"base\": {\"power\": base_power, \"compute_speed\": base_speed},\n",
    "            \"overclock_1\": {\"power\": overclock_power, \"compute_speed\": overclock_speed},\n",
    "        },\n",
    "        \"dvfs_mode\": \"base\",\n",
    "        \"states\": {\n",
    "            \"active\": {\n",
    "                \"power\": \"from_dvfs\",\n",
    "                \"compute_speed\": \"from_dvfs\",\n",
    "                \"can_run_jobs\": True,\n",
    "                \"transitions\": [{\"state\": \"switching_off\", \"transition_time\": 0}],\n",
    "            },\n",
    "            \"switching_off\": {\n",
    "                \"power\": switching_off_power,\n",
    "                \"compute_speed\": \"from_dvfs\",\n",
    "                \"can_run_jobs\": False,\n",
    "                \"transitions\": [{\"state\": \"sleeping\", \"transition_time\": switching_off_time}],\n",
    "            },\n",
    "            \"switching_on\": {\n",
    "                \"power\": switching_on_power,\n",
    "                \"compute_speed\": \"from_dvfs\",\n",
    "                \"can_run_jobs\": False,\n",
    "                \"transitions\": [{\"state\": \"active\", \"transition_time\": switching_on_time}],\n",
    "            },\n",
    "            \"sleeping\": {\n",
    "                \"power\": sleeping_power,\n",
    "                \"compute_speed\": \"from_dvfs\",\n",
    "                \"can_run_jobs\": False,\n",
    "                \"transitions\": [{\"state\": \"switching_on\", \"transition_time\": 0}],\n",
    "            },\n",
    "        },\n",
    "    }\n",
    "\n",
    "    return machine\n",
    "\n",
    "\n",
    "def generate_cluster(num_node):\n",
    "    machines = [\n",
    "        generate_machine(machine_id, 190, 9, 190, 9, 120, 120) for machine_id in range(num_node)\n",
    "    ]\n",
    "\n",
    "    return {\"machines\": machines}\n",
    "\n",
    "\n"
   ]
  },
  {
   "cell_type": "code",
   "execution_count": 27,
   "id": "58f2a5c0",
   "metadata": {},
   "outputs": [],
   "source": [
    "# Number of nodes to generate\n",
    "num_node = 32\n",
    "# Path to output JSON\n",
    "output_path = \"platforms/generated_32.json\"\n"
   ]
  },
  {
   "cell_type": "code",
   "execution_count": 28,
   "id": "c17862d9",
   "metadata": {},
   "outputs": [],
   "source": [
    "\n",
    "cluster = generate_cluster(num_node)\n",
    "\n",
    "with open(output_path, \"w\") as json_file:\n",
    "    json.dump(cluster, json_file, indent=4)\n"
   ]
  }
 ],
 "metadata": {
  "kernelspec": {
   "display_name": "SPARS-venv",
   "language": "python",
   "name": "python3"
  },
  "language_info": {
   "codemirror_mode": {
    "name": "ipython",
    "version": 3
   },
   "file_extension": ".py",
   "mimetype": "text/x-python",
   "name": "python",
   "nbconvert_exporter": "python",
   "pygments_lexer": "ipython3",
   "version": "3.11.5"
  }
 },
 "nbformat": 4,
 "nbformat_minor": 5
}
