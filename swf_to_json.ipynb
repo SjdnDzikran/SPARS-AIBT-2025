{
 "cells": [
  {
   "cell_type": "code",
   "execution_count": 1,
   "id": "372d0f1a",
   "metadata": {},
   "outputs": [],
   "source": [
    "import json\n",
    "from os import error"
   ]
  },
  {
   "cell_type": "code",
   "execution_count": 2,
   "id": "06c02fd6",
   "metadata": {},
   "outputs": [],
   "source": [
    "def parse_swf(input_path):\n",
    "    jobs = []\n",
    "    max_res = 0\n",
    "\n",
    "    with open(input_path, 'r') as f:\n",
    "        for line in f:\n",
    "            line = line.strip()\n",
    "\n",
    "            if not line or line.startswith(';'):\n",
    "                continue\n",
    "\n",
    "            fields = line.split()\n",
    "            if len(fields) < 18:\n",
    "                error(\"Invalid line format: {}\".format(line))\n",
    "                continue \n",
    "\n",
    "            job_id = int(fields[0])\n",
    "            subtime = int(fields[1])\n",
    "            runtime = int(fields[3])\n",
    "            req_procs = int(fields[4])\n",
    "            user_id = int(fields[11])\n",
    "\n",
    "            if req_procs == -1:\n",
    "                req_procs = 0\n",
    "            if runtime == -1:\n",
    "                runtime = 0\n",
    "                \n",
    "            if req_procs > max_res:\n",
    "                max_res = req_procs\n",
    "\n",
    "            jobs.append({\n",
    "                \"job_id\": job_id,\n",
    "                \"res\": req_procs,\n",
    "                \"subtime\": subtime,\n",
    "                \"reqtime\": runtime,\n",
    "                \"runtime\": runtime,\n",
    "                \"user_id\": user_id\n",
    "            })\n",
    "\n",
    "    return max_res, jobs"
   ]
  },
  {
   "cell_type": "code",
   "execution_count": 3,
   "id": "d76519f7",
   "metadata": {},
   "outputs": [],
   "source": [
    "# Path to input SWF file\n",
    "input_path = \"workloads/swf/NASA-iPSC-1993-3.swf\"\n",
    "# Path to output JSON file\n",
    "output_path = \"workloads/converted-nasa.json\""
   ]
  },
  {
   "cell_type": "code",
   "execution_count": 4,
   "id": "e751cf7c",
   "metadata": {},
   "outputs": [
    {
     "name": "stdout",
     "output_type": "stream",
     "text": [
      "Converted 42264 jobs. Max resources requested: 128\n"
     ]
    }
   ],
   "source": [
    "max_res, jobs = parse_swf(input_path)\n",
    "\n",
    "result = {\n",
    "    \"nb_res\": max_res,\n",
    "    \"jobs\": jobs\n",
    "}\n",
    "\n",
    "with open(output_path, 'w') as f:\n",
    "    json.dump(result, f, indent=4)\n",
    "\n",
    "print(f\"Converted {len(jobs)} jobs. Max resources requested: {max_res}\")"
   ]
  }
 ],
 "metadata": {
  "kernelspec": {
   "display_name": "SPARS-venv",
   "language": "python",
   "name": "python3"
  },
  "language_info": {
   "codemirror_mode": {
    "name": "ipython",
    "version": 3
   },
   "file_extension": ".py",
   "mimetype": "text/x-python",
   "name": "python",
   "nbconvert_exporter": "python",
   "pygments_lexer": "ipython3",
   "version": "3.11.5"
  }
 },
 "nbformat": 4,
 "nbformat_minor": 5
}
